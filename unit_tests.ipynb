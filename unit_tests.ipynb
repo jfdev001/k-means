{
 "cells": [
  {
   "cell_type": "code",
   "execution_count": 1,
   "metadata": {},
   "outputs": [],
   "source": [
    "# For testing aspects of kmeans\n",
    "import numpy as np\n",
    "from kmeans import Cluster"
   ]
  },
  {
   "cell_type": "code",
   "execution_count": 2,
   "metadata": {},
   "outputs": [
    {
     "name": "stdout",
     "output_type": "stream",
     "text": [
      "(5,)\n"
     ]
    }
   ],
   "source": [
    "samples = 10\n",
    "features = 5\n",
    "x = []\n",
    "for i in range(samples):\n",
    "    x.append(np.random.normal(size=(features, )))\n",
    "\n",
    "centroid = np.mean(x, axis=0)\n",
    "print(centroid.shape)"
   ]
  },
  {
   "cell_type": "code",
   "execution_count": 3,
   "metadata": {},
   "outputs": [
    {
     "name": "stdout",
     "output_type": "stream",
     "text": [
      "Inspect Cluster:\n",
      "<class 'kmeans.Cluster'> object at 0x29968334940: (centroid=[0 1 2 3 4 5 6 7 8], label=None)\n",
      "Inspect vectors:\n",
      "[0 1 2 3 4 5 6 7 8]\n",
      "[1 2 3 4 5 6 7 8 9]\n"
     ]
    }
   ],
   "source": [
    "x1 = np.arange(0, 9)\n",
    "x2 = np.arange(1, 10)\n",
    "\n",
    "c1 = Cluster(centroid=x1)\n",
    "c2 = Cluster(centroid=x2)\n",
    "\n",
    "print('Inspect Cluster:')\n",
    "print(c1)\n",
    "\n",
    "print('Inspect vectors:')\n",
    "print(x1)\n",
    "print(x2)"
   ]
  },
  {
   "cell_type": "code",
   "execution_count": 4,
   "metadata": {},
   "outputs": [
    {
     "name": "stdout",
     "output_type": "stream",
     "text": [
      "[-1 -1 -1 -1 -1 -1 -1 -1 -1]\n",
      "[1 1 1 1 1 1 1 1 1]\n",
      "[0 0 0 0 0 0 0 0 0]\n",
      "[1 1 1 1 1 1 1 1 1]\n"
     ]
    }
   ],
   "source": [
    "# Subtraction operation\n",
    "print(c1 - c2)\n",
    "print(c2 - c1)\n",
    "print(c1 - x1)\n",
    "print(c2 - x1)"
   ]
  },
  {
   "cell_type": "code",
   "execution_count": null,
   "metadata": {},
   "outputs": [],
   "source": []
  }
 ],
 "metadata": {
  "interpreter": {
   "hash": "07f0aceed467d0cbae7569fecdfaec78063cba8e23481668ef588a8de6eba6e0"
  },
  "kernelspec": {
   "display_name": "Python 3.9.6 64-bit ('blue-mars': conda)",
   "language": "python",
   "name": "python3"
  },
  "language_info": {
   "codemirror_mode": {
    "name": "ipython",
    "version": 3
   },
   "file_extension": ".py",
   "mimetype": "text/x-python",
   "name": "python",
   "nbconvert_exporter": "python",
   "pygments_lexer": "ipython3",
   "version": "3.9.6"
  },
  "orig_nbformat": 4
 },
 "nbformat": 4,
 "nbformat_minor": 2
}
